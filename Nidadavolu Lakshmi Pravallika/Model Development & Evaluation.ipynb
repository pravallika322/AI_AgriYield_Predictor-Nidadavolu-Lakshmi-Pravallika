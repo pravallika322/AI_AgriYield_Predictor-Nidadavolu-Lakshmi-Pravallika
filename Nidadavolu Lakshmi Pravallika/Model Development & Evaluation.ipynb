{
  "nbformat": 4,
  "nbformat_minor": 0,
  "metadata": {
    "colab": {
      "provenance": []
    },
    "kernelspec": {
      "name": "python3",
      "display_name": "Python 3"
    },
    "language_info": {
      "name": "python"
    }
  },
  "cells": [
    {
      "cell_type": "code",
      "execution_count": 11,
      "metadata": {
        "colab": {
          "base_uri": "https://localhost:8080/"
        },
        "id": "dEhVxu3j2ylH",
        "outputId": "d491c626-52fd-447c-9adb-1cc0ddc75d80"
      },
      "outputs": [
        {
          "output_type": "stream",
          "name": "stdout",
          "text": [
            "Linear Regression Performance:\n",
            "RMSE: 0.0000\n",
            "MAE: 0.0000\n",
            "R2 Score: 1.0000\n",
            "Accuracy: 1.0000\n"
          ]
        }
      ],
      "source": [
        "import pandas as pd\n",
        "from sklearn.model_selection import train_test_split, cross_val_score\n",
        "from sklearn.linear_model import LinearRegression\n",
        "from sklearn.preprocessing import StandardScaler, PolynomialFeatures\n",
        "from sklearn.metrics import mean_squared_error, r2_score, mean_absolute_error\n",
        "import numpy as np\n",
        "\n",
        "# Load dataset after uploading\n",
        "df = pd.read_csv('/content/Cleaned_Crop_Yield_Dataset.csv')\n",
        "df.columns = df.columns.str.strip()\n",
        "\n",
        "# One-hot encode categorical columns\n",
        "cat_cols = df.select_dtypes(include=['object']).columns.tolist()\n",
        "if len(cat_cols) > 0:\n",
        "    df = pd.get_dummies(df, columns=cat_cols, drop_first=True)\n",
        "\n",
        "# Separate features and target\n",
        "X = df.drop(columns=['Yield'])\n",
        "y = df['Yield']\n",
        "\n",
        "# Feature scaling\n",
        "scaler = StandardScaler()\n",
        "X_scaled = scaler.fit_transform(X)\n",
        "\n",
        "# Train-test split\n",
        "X_train, X_test, y_train, y_test = train_test_split(X_scaled, y, test_size=0.2, random_state=42)\n",
        "\n",
        "# Polynomial features\n",
        "poly = PolynomialFeatures(degree=2, include_bias=False)\n",
        "X_train_poly = poly.fit_transform(X_train)\n",
        "X_test_poly = poly.transform(X_test)\n",
        "\n",
        "# Train model\n",
        "model = LinearRegression()\n",
        "model.fit(X_train_poly, y_train)\n",
        "y_pred = model.predict(X_test_poly)\n",
        "\n",
        "# Metrics\n",
        "rmse = np.sqrt(mean_squared_error(y_test, y_pred))\n",
        "r2 = r2_score(y_test, y_pred)\n",
        "mae = mean_absolute_error(y_test, y_pred)\n",
        "\n",
        "# Cross-validation (optional)\n",
        "cv_scores = cross_val_score(model, poly.fit_transform(X_scaled), y, cv=5, scoring='r2')\n",
        "mean_cv_r2 = np.mean(cv_scores)\n",
        "\n",
        "print(\"Linear Regression Performance:\")\n",
        "print(f\"RMSE: {rmse:.4f}\")\n",
        "print(f\"MAE: {mae:.4f}\")\n",
        "print(f\"R2 Score: {r2:.4f}\")\n",
        "print(f\"Accuracy: {r2:.4f}\")\n"
      ]
    },
    {
      "cell_type": "code",
      "source": [
        "import pandas as pd\n",
        "import numpy as np\n",
        "from sklearn.model_selection import train_test_split\n",
        "from sklearn.ensemble import RandomForestRegressor\n",
        "from sklearn.metrics import mean_squared_error, r2_score, mean_absolute_error\n",
        "\n",
        "df = pd.read_csv('/content/Cleaned_Crop_Yield_Dataset.csv')\n",
        "df.columns = df.columns.str.strip()\n",
        "cat_cols = df.select_dtypes(include=['object']).columns.tolist()\n",
        "if len(cat_cols) > 0:\n",
        "    df = pd.get_dummies(df, columns=cat_cols, drop_first=True)\n",
        "\n",
        "X = df.drop(columns=['Yield'])\n",
        "y = df['Yield']\n",
        "X_train, X_test, y_train, y_test = train_test_split(\n",
        "    X, y, test_size=0.2, random_state=42)\n",
        "rf_model = RandomForestRegressor(n_estimators=100, random_state=42)\n",
        "rf_model.fit(X_train, y_train)\n",
        "y_pred = rf_model.predict(X_test)\n",
        "\n",
        "rmse = np.sqrt(mean_squared_error(y_test, y_pred))\n",
        "r2 = r2_score(y_test, y_pred)\n",
        "mae = mean_absolute_error(y_test, y_pred)\n",
        "\n",
        "print(\"Random Forest Regression Performance:\")\n",
        "print(f\"RMSE: {rmse:.4f}\")\n",
        "print(f\"R2 Score: {r2:.4f}\")\n",
        "print(f\"MAE: {mae:.4f}\")\n",
        "print(f\"Accuracy: {r2:.4f}\")  # Here, accuracy is shown as the R2 Score\n"
      ],
      "metadata": {
        "colab": {
          "base_uri": "https://localhost:8080/"
        },
        "id": "_tavW3FD3Q_9",
        "outputId": "6f4ec640-4604-4d23-9ae2-34c66d336777"
      },
      "execution_count": 4,
      "outputs": [
        {
          "output_type": "stream",
          "name": "stdout",
          "text": [
            "Random Forest Regression Performance:\n",
            "RMSE: 0.0483\n",
            "R2 Score: 0.9979\n",
            "MAE: 0.0047\n",
            "Accuracy: 0.9979\n"
          ]
        }
      ]
    },
    {
      "cell_type": "code",
      "source": [
        "import pandas as pd\n",
        "import numpy as np\n",
        "from sklearn.model_selection import train_test_split\n",
        "from xgboost import XGBRegressor\n",
        "from sklearn.metrics import mean_squared_error, r2_score, mean_absolute_error\n",
        "\n",
        "df = pd.read_csv('/content/Cleaned_Crop_Yield_Dataset.csv')\n",
        "df.columns = df.columns.str.strip()\n",
        "cat_cols = df.select_dtypes(include=['object']).columns.tolist()\n",
        "if len(cat_cols) > 0:\n",
        "    df = pd.get_dummies(df, columns=cat_cols, drop_first=True)\n",
        "\n",
        "X = df.drop(columns=['Yield'])\n",
        "y = df['Yield']\n",
        "X_train, X_test, y_train, y_test = train_test_split(\n",
        "    X, y, test_size=0.2, random_state=42)\n",
        "xgb_model = XGBRegressor(random_state=42, objective='reg:squarederror')\n",
        "xgb_model.fit(X_train, y_train)\n",
        "y_pred = xgb_model.predict(X_test)\n",
        "\n",
        "rmse = np.sqrt(mean_squared_error(y_test, y_pred))\n",
        "r2 = r2_score(y_test, y_pred)\n",
        "mae = mean_absolute_error(y_test, y_pred)\n",
        "\n",
        "print(\"XGBoost Regression Performance:\")\n",
        "print(f\"RMSE: {rmse:.4f}\")\n",
        "print(f\"R2 Score: {r2:.4f}\")\n",
        "print(f\"MAE: {mae:.4f}\")\n",
        "print(f\"Accuracy: {r2:.4f}\")  # Accuracy as R2 score\n"
      ],
      "metadata": {
        "colab": {
          "base_uri": "https://localhost:8080/"
        },
        "id": "revQdMX43m-s",
        "outputId": "bcbb899f-3f73-48df-8b7c-23fa5485ff92"
      },
      "execution_count": 5,
      "outputs": [
        {
          "output_type": "stream",
          "name": "stdout",
          "text": [
            "XGBoost Regression Performance:\n",
            "RMSE: 0.0134\n",
            "R2 Score: 0.9998\n",
            "MAE: 0.0023\n",
            "Accuracy: 0.9998\n"
          ]
        }
      ]
    },
    {
      "cell_type": "code",
      "source": [
        "import pandas as pd\n",
        "from sklearn.model_selection import train_test_split\n",
        "from sklearn.ensemble import StackingRegressor, RandomForestRegressor\n",
        "from sklearn.linear_model import LinearRegression\n",
        "from sklearn.metrics import mean_squared_error, r2_score\n",
        "import numpy as np\n",
        "\n",
        "# Load dataset\n",
        "df = pd.read_csv('/content/Cleaned_Crop_Yield_Dataset.csv')\n",
        "df.columns = df.columns.str.strip()\n",
        "\n",
        "X = df.drop(columns=['Yield'])\n",
        "y = df['Yield']\n",
        "X = pd.get_dummies(X, drop_first=True)\n",
        "\n",
        "X_train, X_test, y_train, y_test = train_test_split(X, y, test_size=0.2, random_state=42)\n",
        "\n",
        "# Base models\n",
        "base_models = [\n",
        "    ('lr', LinearRegression()),\n",
        "    ('rf', RandomForestRegressor(n_estimators=200, random_state=42))\n",
        "]\n",
        "\n",
        "# Stacking Regressor (meta-model)\n",
        "stack_model = StackingRegressor(estimators=base_models, final_estimator=LinearRegression())\n",
        "\n",
        "# Train\n",
        "stack_model.fit(X_train, y_train)\n",
        "\n",
        "# Predict\n",
        "y_pred = stack_model.predict(X_test)\n",
        "\n",
        "# Evaluate\n",
        "rmse = np.sqrt(mean_squared_error(y_test, y_pred))\n",
        "r2 = r2_score(y_test, y_pred)\n",
        "\n",
        "print(f\"Stacking Model Performance(LinearRegression+RandomForestRegressor):\")\n",
        "print(f\"RMSE: {rmse:.4f}\")\n",
        "print(f\"R2 Score: {r2:.4f}\")\n",
        "print(f\"Accuracy: {r2:.4f}\")  # Accuracy as R2 score\n"
      ],
      "metadata": {
        "colab": {
          "base_uri": "https://localhost:8080/"
        },
        "id": "9rRrhIuL33zl",
        "outputId": "51ab3a5c-3708-4fe9-f067-b7b49afd5b30"
      },
      "execution_count": 8,
      "outputs": [
        {
          "output_type": "stream",
          "name": "stdout",
          "text": [
            "Stacking Model Performance(LinearRegression+RandomForestRegressor):\n",
            "RMSE: 0.0000\n",
            "R2 Score: 1.0000\n",
            "Accuracy: 1.0000\n"
          ]
        }
      ]
    },
    {
      "cell_type": "code",
      "source": [
        "import pandas as pd\n",
        "from sklearn.model_selection import train_test_split\n",
        "from sklearn.linear_model import LinearRegression\n",
        "from sklearn.ensemble import RandomForestRegressor, StackingRegressor\n",
        "from xgboost import XGBRegressor\n",
        "from sklearn.metrics import mean_squared_error, r2_score\n",
        "import numpy as np\n",
        "\n",
        "# Load dataset\n",
        "df = pd.read_csv('/content/Cleaned_Crop_Yield_Dataset.csv')\n",
        "df.columns = df.columns.str.strip()\n",
        "\n",
        "# Prepare features and target\n",
        "X = df.drop(columns=['Yield'])\n",
        "y = df['Yield']\n",
        "\n",
        "# One-hot encode categorical variables if any\n",
        "X = pd.get_dummies(X, drop_first=True)\n",
        "\n",
        "# Train-test split\n",
        "X_train, X_test, y_train, y_test = train_test_split(X, y, test_size=0.2, random_state=42)\n",
        "\n",
        "# Base regressors\n",
        "estimators = [\n",
        "    ('rf', RandomForestRegressor(n_estimators=100, random_state=42)),\n",
        "    ('xgb', XGBRegressor(random_state=42, objective='reg:squarederror')),\n",
        "]\n",
        "\n",
        "# Meta regressor\n",
        "final_estimator = LinearRegression()\n",
        "\n",
        "# Stacking regressor\n",
        "stacking_regressor = StackingRegressor(\n",
        "    estimators=estimators,\n",
        "    final_estimator=final_estimator,\n",
        "    cv=5\n",
        ")\n",
        "\n",
        "# Train stacking model\n",
        "stacking_regressor.fit(X_train, y_train)\n",
        "\n",
        "# Predict and evaluate\n",
        "y_pred = stacking_regressor.predict(X_test)\n",
        "\n",
        "rmse = np.sqrt(mean_squared_error(y_test, y_pred))\n",
        "r2 = r2_score(y_test, y_pred)\n",
        "\n",
        "print(\"Stacking Model Performance(RandomForestRegressor+XGBRegressor):\")\n",
        "print(f\"RMSE: {rmse:.4f}\")\n",
        "print(f\"R2 Score: {r2:.4f}\")\n",
        "print(f\"Accuracy: {r2:.4f}\")  # Showing accuracy as R2 Score\n"
      ],
      "metadata": {
        "colab": {
          "base_uri": "https://localhost:8080/"
        },
        "id": "3iBIa9nY4SYE",
        "outputId": "f611b439-8a31-484e-f1c9-b8dc4ba4d7de"
      },
      "execution_count": 10,
      "outputs": [
        {
          "output_type": "stream",
          "name": "stdout",
          "text": [
            "Stacking Model Performance(RandomForestRegressor+XGBRegressor):\n",
            "RMSE: 0.0194\n",
            "R2 Score: 0.9997\n",
            "Accuracy: 0.9997\n"
          ]
        }
      ]
    }
  ]
}